{
  "cells": [
    {
      "cell_type": "markdown",
      "metadata": {
        "id": "view-in-github",
        "colab_type": "text"
      },
      "source": [
        "<a href=\"https://colab.research.google.com/github/PeoPeo-1712/22110010_NGUYEN-HUYNH-QUOC-BAO/blob/master/_downloads/cifar10.3_tutorial.ipynb\" target=\"_parent\"><img src=\"https://colab.research.google.com/assets/colab-badge.svg\" alt=\"Open In Colab\"/></a>"
      ]
    },
    {
      "cell_type": "code",
      "execution_count": 1,
      "metadata": {
        "id": "zTrbuFuL8M0i"
      },
      "outputs": [],
      "source": [
        "%matplotlib inline"
      ]
    },
    {
      "cell_type": "markdown",
      "metadata": {
        "id": "Wmrm8L148M0m"
      },
      "source": [
        "\n",
        "Training a Classifier\n",
        "=====================\n",
        "\n",
        "This is it. You have seen how to define neural networks, compute loss and make\n",
        "updates to the weights of the network.\n",
        "\n",
        "Now you might be thinking,\n",
        "\n",
        "What about data?\n",
        "----------------\n",
        "\n",
        "Generally, when you have to deal with image, text, audio or video data,\n",
        "you can use standard python packages that load data into a numpy array.\n",
        "Then you can convert this array into a ``torch.*Tensor``.\n",
        "\n",
        "-  For images, packages such as Pillow, OpenCV are useful\n",
        "-  For audio, packages such as scipy and librosa\n",
        "-  For text, either raw Python or Cython based loading, or NLTK and\n",
        "   SpaCy are useful\n",
        "\n",
        "Specifically for vision, we have created a package called\n",
        "``torchvision``, that has data loaders for common datasets such as\n",
        "Imagenet, CIFAR10, MNIST, etc. and data transformers for images, viz.,\n",
        "``torchvision.datasets`` and ``torch.utils.data.DataLoader``.\n",
        "\n",
        "This provides a huge convenience and avoids writing boilerplate code.\n",
        "\n",
        "For this tutorial, we will use the CIFAR10 dataset.\n",
        "It has the classes: ‘airplane’, ‘automobile’, ‘bird’, ‘cat’, ‘deer’,\n",
        "‘dog’, ‘frog’, ‘horse’, ‘ship’, ‘truck’. The images in CIFAR-10 are of\n",
        "size 3x32x32, i.e. 3-channel color images of 32x32 pixels in size.\n",
        "\n",
        ".. figure:: /_static/img/cifar10.png\n",
        "   :alt: cifar10\n",
        "\n",
        "   cifar10\n",
        "\n",
        "\n",
        "Training an image classifier\n",
        "----------------------------\n",
        "\n",
        "We will do the following steps in order:\n",
        "\n",
        "1. Load and normalizing the CIFAR10 training and test datasets using\n",
        "   ``torchvision``\n",
        "2. Define a Convolution Neural Network\n",
        "3. Define a loss function\n",
        "4. Train the network on the training data\n",
        "5. Test the network on the test data\n",
        "\n",
        "1. Loading and normalizing CIFAR10\n",
        "^^^^^^^^^^^^^^^^^^^^^^^^^^^^^^^^^^\n",
        "\n",
        "Using ``torchvision``, it’s extremely easy to load CIFAR10.\n",
        "\n"
      ]
    },
    {
      "cell_type": "code",
      "execution_count": 2,
      "metadata": {
        "colab": {
          "base_uri": "https://localhost:8080/"
        },
        "id": "z6UuTKi28M0n",
        "outputId": "c12d5656-5cd1-4394-bead-ca189d9901cf"
      },
      "outputs": [
        {
          "output_type": "stream",
          "name": "stdout",
          "text": [
            "cuda:0\n"
          ]
        }
      ],
      "source": [
        "import torch\n",
        "import torchvision\n",
        "import torchvision.transforms as transforms\n",
        "device = torch.device(\"cuda:0\" if torch.cuda.is_available() else \"cpu\")\n",
        "\n",
        "# Assume that we are on a CUDA machine, then this should print a CUDA device:\n",
        "\n",
        "print(device)"
      ]
    },
    {
      "cell_type": "markdown",
      "metadata": {
        "id": "5Oxb-C_C8M0o"
      },
      "source": [
        "The output of torchvision datasets are PILImage images of range [0, 1].\n",
        "We transform them to Tensors of normalized range [-1, 1].\n",
        "\n"
      ]
    },
    {
      "cell_type": "code",
      "execution_count": 3,
      "metadata": {
        "colab": {
          "base_uri": "https://localhost:8080/"
        },
        "id": "BXNsDK138M0o",
        "outputId": "7ed321f4-997a-446f-99c7-8e90ca31e219"
      },
      "outputs": [
        {
          "output_type": "stream",
          "name": "stderr",
          "text": [
            "100%|██████████| 170M/170M [00:05<00:00, 28.9MB/s]\n"
          ]
        }
      ],
      "source": [
        "transform = transforms.Compose(\n",
        "    [transforms.ToTensor(),\n",
        "     transforms.Normalize((0.5, 0.5, 0.5), (0.5, 0.5, 0.5))])\n",
        "\n",
        "trainset = torchvision.datasets.CIFAR10(root='./data', train=True,\n",
        "                                        download=True, transform=transform)\n",
        "trainloader = torch.utils.data.DataLoader(trainset, batch_size=4,\n",
        "                                          shuffle=True, num_workers=2)\n",
        "\n",
        "testset = torchvision.datasets.CIFAR10(root='./data', train=False,\n",
        "                                       download=True, transform=transform)\n",
        "testloader = torch.utils.data.DataLoader(testset, batch_size=4,\n",
        "                                         shuffle=False, num_workers=2)\n",
        "\n",
        "classes = ('plane', 'car', 'bird', 'cat',\n",
        "           'deer', 'dog', 'frog', 'horse', 'ship', 'truck')"
      ]
    },
    {
      "cell_type": "markdown",
      "metadata": {
        "id": "NKZf_7eh8M0p"
      },
      "source": [
        "Let us show some of the training images, for fun.\n",
        "\n"
      ]
    },
    {
      "cell_type": "code",
      "execution_count": 4,
      "metadata": {
        "colab": {
          "base_uri": "https://localhost:8080/",
          "height": 211
        },
        "id": "NZnAvHNS8M0p",
        "outputId": "212b9a3c-ccc2-4ca3-e364-6a1fd44a317d"
      },
      "outputs": [
        {
          "output_type": "stream",
          "name": "stdout",
          "text": [
            "  car  deer plane  frog\n"
          ]
        },
        {
          "output_type": "display_data",
          "data": {
            "text/plain": [
              "<Figure size 640x480 with 1 Axes>"
            ],
            "image/png": "[encoded data removed]"
          },
          "metadata": {}
        }
      ],
      "source": [
        "import matplotlib.pyplot as plt\n",
        "import numpy as np\n",
        "\n",
        "# functions to show an image\n",
        "\n",
        "\n",
        "def imshow(img):\n",
        "    img = img / 2 + 0.5     # unnormalize\n",
        "    npimg = img.numpy()\n",
        "    plt.imshow(np.transpose(npimg, (1, 2, 0)))\n",
        "\n",
        "\n",
        "# get some random training images\n",
        "dataiter = iter(trainloader)\n",
        "images, labels = next(dataiter)\n",
        "\n",
        "# show images\n",
        "imshow(torchvision.utils.make_grid(images))\n",
        "# print labels\n",
        "print(' '.join('%5s' % classes[labels[j]] for j in range(4)))"
      ]
    },
    {
      "cell_type": "markdown",
      "metadata": {
        "id": "9CAdY0fK8M0q"
      },
      "source": [
        "2. Define a Convolution Neural Network\n",
        "^^^^^^^^^^^^^^^^^^^^^^^^^^^^^^^^^^^^^^\n",
        "Copy the neural network from the Neural Networks section before and modify it to\n",
        "take 3-channel images (instead of 1-channel images as it was defined).\n",
        "\n"
      ]
    },
    {
      "cell_type": "code",
      "execution_count": 5,
      "metadata": {
        "id": "KD4hjmYZ8M0q",
        "outputId": "142d9528-dd00-4783-8c6b-0cd78086ed1a",
        "colab": {
          "base_uri": "https://localhost:8080/"
        }
      },
      "outputs": [
        {
          "output_type": "stream",
          "name": "stdout",
          "text": [
            "----------------------------------------------------------------\n",
            "        Layer (type)               Output Shape         Param #\n",
            "================================================================\n",
            "            Conv2d-1           [-1, 32, 30, 30]           2,432\n",
            "            Conv2d-2           [-1, 36, 30, 30]          10,404\n",
            "            Conv2d-3           [-1, 36, 30, 30]          28,836\n",
            "            Conv2d-4           [-1, 40, 30, 30]          13,000\n",
            "            Conv2d-5           [-1, 40, 30, 30]          36,040\n",
            "            Conv2d-6           [-1, 46, 30, 30]          46,046\n",
            "            Conv2d-7           [-1, 50, 30, 30]          18,050\n",
            "            Conv2d-8           [-1, 50, 30, 30]          57,550\n",
            "            Conv2d-9           [-1, 54, 30, 30]          67,554\n",
            "           Conv2d-10           [-1, 56, 30, 30]          25,256\n",
            "           Conv2d-11           [-1, 80, 30, 30]         108,080\n",
            "           Conv2d-12          [-1, 110, 28, 28]         220,110\n",
            "           Conv2d-13          [-1, 110, 28, 28]         109,010\n",
            "           Conv2d-14          [-1, 110, 26, 26]         302,610\n",
            "           Conv2d-15          [-1, 120, 26, 26]         118,920\n",
            "           Conv2d-16          [-1, 120, 26, 26]         118,920\n",
            "           Conv2d-17          [-1, 130, 26, 26]         140,530\n",
            "           Conv2d-18          [-1, 140, 26, 26]         163,940\n",
            "           Conv2d-19          [-1, 150, 26, 26]         189,150\n",
            "           Conv2d-20          [-1, 160, 26, 26]         216,160\n",
            "           Conv2d-21          [-1, 170, 26, 26]         680,170\n",
            "           Conv2d-22          [-1, 170, 24, 24]         722,670\n",
            "           Conv2d-23          [-1, 150, 26, 26]         162,150\n",
            "           Conv2d-24          [-1, 150, 24, 24]         562,650\n",
            "        MaxPool2d-25          [-1, 320, 12, 12]               0\n",
            "           Conv2d-26         [-1, 1024, 12, 12]       8,193,024\n",
            "        MaxPool2d-27           [-1, 1024, 6, 6]               0\n",
            "           Linear-28                   [-1, 20]         737,300\n",
            "           Linear-29                   [-1, 10]             210\n",
            "================================================================\n",
            "Total params: 13,050,772\n",
            "Trainable params: 13,050,772\n",
            "Non-trainable params: 0\n",
            "----------------------------------------------------------------\n",
            "Input size (MB): 0.01\n",
            "Forward/backward pass size (MB): 14.50\n",
            "Params size (MB): 49.78\n",
            "Estimated Total Size (MB): 64.29\n",
            "----------------------------------------------------------------\n"
          ]
        }
      ],
      "source": [
        "import torch.nn as nn\n",
        "import torch.nn.functional as F\n",
        "\n",
        "\n",
        "class Net(nn.Module):\n",
        "    def __init__(self):\n",
        "        super(Net, self).__init__()\n",
        "        # self.conv1 = nn.Conv2d(3, 6, 5)\n",
        "        # self.pool = nn.MaxPool2d(2, 2)\n",
        "        # self.conv2 = nn.Conv2d(6, 16, 5)\n",
        "        # self.fc1 = nn.Linear(16 * 5 * 5, 120)\n",
        "        # self.fc2 = nn.Linear(120, 84)\n",
        "        # self.fc3 = nn.Linear(84, 10)\n",
        "\n",
        "        # conv\n",
        "        self.conv1 = nn.Conv2d(3,32,5, padding = 1)\n",
        "        self.conv2 = nn.Conv2d(32,36,5, padding = 2)\n",
        "        self.conv3 = nn.Conv2d(36,40,5, padding = 2)\n",
        "        self.conv4 = nn.Conv2d(40,46,5, padding = 2)\n",
        "        self.conv5 = nn.Conv2d(46,50,5, padding = 2)\n",
        "        self.conv6 = nn.Conv2d(50,54,5, padding = 2)\n",
        "        self.conv7 = nn.Conv2d(54,80,5, padding = 2)\n",
        "        self.conv8 = nn.Conv2d(80,110,5, padding = 1)\n",
        "        self.conv9 = nn.Conv2d(32,36,3, padding = 1)\n",
        "        self.conv10 = nn.Conv2d(36,40,3, padding = 1)\n",
        "        self.conv11 = nn.Conv2d(40,50,3, padding = 1)\n",
        "        self.conv12 = nn.Conv2d(50,56,3, padding = 1)\n",
        "        self.conv13 = nn.Conv2d(110,110,3)\n",
        "        self.conv14 = nn.Conv2d(110,110,5, padding = 1)\n",
        "        self.conv15 = nn.Conv2d(110,120,3, padding = 1)\n",
        "        self.conv16 = nn.Conv2d(120,130,3, padding = 1)\n",
        "        self.conv17 = nn.Conv2d(130,140,3, padding = 1)\n",
        "        self.conv18 = nn.Conv2d(140,150,3, padding = 1)\n",
        "        self.conv19 = nn.Conv2d(150,160,3, padding = 1)\n",
        "        self.conv20 = nn.Conv2d(160,170,5, padding = 2)\n",
        "        self.conv21 = nn.Conv2d(170,170,5, padding = 1)\n",
        "        self.conv22 = nn.Conv2d(110,120,3, padding = 1)\n",
        "        self.conv23 = nn.Conv2d(120,150,3, padding = 1)\n",
        "        self.conv24 = nn.Conv2d(150,150,5, padding = 1)\n",
        "        self.conv25 = nn.Conv2d(320,1024,5, padding = 2)\n",
        "\n",
        "        # Maxpooling\n",
        "        self.pool = nn.MaxPool2d(2,2)\n",
        "\n",
        "        # fully connected\n",
        "        self.fc1 = nn.Linear (6*6*1024, 20)\n",
        "        self.fc2 = nn.Linear(20, 10)\n",
        "\n",
        "\n",
        "    def forward(self, x):\n",
        "        # x = self.pool(F.relu(self.conv1(x)))\n",
        "        # x = self.pool(F.relu(self.conv2(x)))\n",
        "        # x = x.view(-1, 16 * 5 * 5)\n",
        "        # x = F.relu(self.fc1(x))\n",
        "        # x = F.relu(self.fc2(x))\n",
        "        # x = self.fc3(x)\n",
        "\n",
        "        x = F.relu(self.conv1(x))\n",
        "        x1 = F.relu(self.conv9(x))\n",
        "        x2 = F.relu(self.conv2(x))\n",
        "        x1 = F.relu(self.conv10(x1))\n",
        "        x2 = F.relu(self.conv3(x2))\n",
        "        x = x1 + x2\n",
        "        x2 = F.relu(self.conv4(x2))\n",
        "        x = F.relu(self.conv11(x))\n",
        "        x2 = F.relu(self.conv5(x2))\n",
        "        x2 = F.relu(self.conv6(x2))\n",
        "        x = F.relu(self.conv12(x))\n",
        "        x = torch.cat((x , x2), dim = 1)\n",
        "        x2 = F.relu(self.conv7(x2))\n",
        "        x2 = F.relu(self.conv8(x2))\n",
        "        x = F.relu(self.conv13(x))\n",
        "        x = x + x2\n",
        "        x = F.relu(self.conv14(x))\n",
        "        x3 = F.relu(self.conv15(x))\n",
        "        x4 = F.relu(self.conv22(x))\n",
        "        x3 = F.relu(self.conv16(x3))\n",
        "        x3 = F.relu(self.conv17(x3))\n",
        "        x3 = F.relu(self.conv18(x3))\n",
        "        x3 = F.relu(self.conv19(x3))\n",
        "        x3 = F.relu(self.conv20(x3))\n",
        "        x3 = F.relu(self.conv21(x3))\n",
        "        x4 = F.relu(self.conv23(x4))\n",
        "        x4 = F.relu(self.conv24(x4))\n",
        "        x = torch.cat((x3, x4), dim = 1)\n",
        "        x = self.pool(x)\n",
        "        x = F.relu(self.conv25(x))\n",
        "        x = self.pool(x)\n",
        "        x = x.view(-1, 1024 * 6 * 6)\n",
        "        x = F.relu(self.fc1(x))\n",
        "        x = self.fc2(x)\n",
        "\n",
        "        return x\n",
        "\n",
        "\n",
        "net = Net()\n",
        "device = torch.device(\"cuda\" if torch.cuda.is_available() else \"cpu\")\n",
        "model = Net().to(device)\n",
        "\n",
        "from torchsummary import summary\n",
        "summary(model, (3, 32, 32))"
      ]
    },
    {
      "cell_type": "markdown",
      "metadata": {
        "id": "Km3KPzXx8M0q"
      },
      "source": [
        "3. Define a Loss function and optimizer\n",
        "^^^^^^^^^^^^^^^^^^^^^^^^^^^^^^^^^^^^^^^\n",
        "Let's use a Classification Cross-Entropy loss and SGD with momentum.\n",
        "\n"
      ]
    },
    {
      "cell_type": "code",
      "execution_count": 6,
      "metadata": {
        "id": "Kdgnp79E8M0r"
      },
      "outputs": [],
      "source": [
        "import torch.optim as optim\n",
        "\n",
        "criterion = nn.CrossEntropyLoss()\n",
        "optimizer = optim.SGD(net.parameters(), lr=0.001, momentum=0.9)"
      ]
    },
    {
      "cell_type": "markdown",
      "metadata": {
        "id": "sCHrtkdF8M0r"
      },
      "source": [
        "4. Train the network\n",
        "^^^^^^^^^^^^^^^^^^^^\n",
        "\n",
        "This is when things start to get interesting.\n",
        "We simply have to loop over our data iterator, and feed the inputs to the\n",
        "network and optimize.\n",
        "\n"
      ]
    },
    {
      "cell_type": "code",
      "execution_count": 7,
      "metadata": {
        "id": "SwK7PJtJ8M0r",
        "outputId": "c1ae9d2a-b67f-4039-b055-4d99013ece52",
        "colab": {
          "base_uri": "https://localhost:8080/"
        }
      },
      "outputs": [
        {
          "output_type": "stream",
          "name": "stdout",
          "text": [
            "[1,  2000] loss: 2.305\n",
            "[1,  4000] loss: 2.303\n",
            "[1,  6000] loss: 2.303\n",
            "[1,  8000] loss: 2.303\n",
            "[1, 10000] loss: 2.303\n",
            "[1, 12000] loss: 2.303\n",
            "[2,  2000] loss: 2.303\n",
            "[2,  4000] loss: 2.304\n",
            "[2,  6000] loss: 2.303\n",
            "[2,  8000] loss: 2.303\n",
            "[2, 10000] loss: 2.303\n",
            "[2, 12000] loss: 2.303\n",
            "[3,  2000] loss: 2.303\n",
            "[3,  4000] loss: 2.303\n",
            "[3,  6000] loss: 2.303\n",
            "[3,  8000] loss: 2.304\n",
            "[3, 10000] loss: 2.303\n",
            "[3, 12000] loss: 2.303\n",
            "[4,  2000] loss: 2.303\n",
            "[4,  4000] loss: 2.303\n",
            "[4,  6000] loss: 2.303\n",
            "[4,  8000] loss: 2.303\n",
            "[4, 10000] loss: 2.303\n",
            "[4, 12000] loss: 2.303\n",
            "[5,  2000] loss: 2.303\n",
            "[5,  4000] loss: 2.303\n",
            "[5,  6000] loss: 2.303\n",
            "[5,  8000] loss: 2.303\n",
            "[5, 10000] loss: 2.303\n",
            "[5, 12000] loss: 2.303\n",
            "[6,  2000] loss: 2.303\n",
            "[6,  4000] loss: 2.303\n",
            "[6,  6000] loss: 2.303\n",
            "[6,  8000] loss: 2.247\n",
            "[6, 10000] loss: 2.004\n",
            "[6, 12000] loss: 1.905\n",
            "[7,  2000] loss: 1.796\n",
            "[7,  4000] loss: 1.733\n",
            "[7,  6000] loss: 1.659\n",
            "[7,  8000] loss: 1.594\n",
            "[7, 10000] loss: 1.521\n",
            "[7, 12000] loss: 1.453\n",
            "[8,  2000] loss: 1.377\n",
            "[8,  4000] loss: 1.330\n",
            "[8,  6000] loss: 1.287\n",
            "[8,  8000] loss: 1.245\n",
            "[8, 10000] loss: 1.200\n",
            "[8, 12000] loss: 1.179\n",
            "[9,  2000] loss: 1.066\n",
            "[9,  4000] loss: 1.066\n",
            "[9,  6000] loss: 1.046\n",
            "[9,  8000] loss: 1.022\n",
            "[9, 10000] loss: 0.996\n",
            "[9, 12000] loss: 0.983\n",
            "[10,  2000] loss: 0.858\n",
            "[10,  4000] loss: 0.851\n",
            "[10,  6000] loss: 0.859\n",
            "[10,  8000] loss: 0.867\n",
            "[10, 10000] loss: 0.841\n",
            "[10, 12000] loss: 0.854\n",
            "[11,  2000] loss: 0.659\n",
            "[11,  4000] loss: 0.694\n",
            "[11,  6000] loss: 0.699\n",
            "[11,  8000] loss: 0.712\n",
            "[11, 10000] loss: 0.706\n",
            "[11, 12000] loss: 0.724\n",
            "[12,  2000] loss: 0.500\n",
            "[12,  4000] loss: 0.540\n",
            "[12,  6000] loss: 0.582\n",
            "[12,  8000] loss: 0.558\n",
            "[12, 10000] loss: 0.588\n",
            "[12, 12000] loss: 0.579\n",
            "[13,  2000] loss: 0.354\n",
            "[13,  4000] loss: 0.408\n",
            "[13,  6000] loss: 0.424\n",
            "[13,  8000] loss: 0.455\n",
            "[13, 10000] loss: 0.474\n",
            "[13, 12000] loss: 0.486\n",
            "[14,  2000] loss: 0.277\n",
            "[14,  4000] loss: 0.301\n",
            "[14,  6000] loss: 0.347\n",
            "[14,  8000] loss: 0.341\n",
            "[14, 10000] loss: 0.374\n",
            "[14, 12000] loss: 0.370\n",
            "[15,  2000] loss: 0.205\n",
            "[15,  4000] loss: 0.232\n",
            "[15,  6000] loss: 0.254\n",
            "[15,  8000] loss: 0.270\n",
            "[15, 10000] loss: 0.297\n",
            "[15, 12000] loss: 0.295\n",
            "Finished Training\n"
          ]
        }
      ],
      "source": [
        "device = torch.device(\"cuda\" if torch.cuda.is_available() else \"cpu\")\n",
        "net.to(device)\n",
        "\n",
        "for epoch in range(15):  # loop over the dataset multiple times\n",
        "    running_loss = 0.0\n",
        "    for i, data in enumerate(trainloader, 0):\n",
        "        inputs, labels = data\n",
        "        inputs, labels = inputs.to(device), labels.to(device)  # Đưa lên GPU\n",
        "\n",
        "        optimizer.zero_grad()\n",
        "        outputs = net(inputs)\n",
        "        loss = criterion(outputs, labels)\n",
        "        loss.backward()\n",
        "        optimizer.step()\n",
        "\n",
        "        running_loss += loss.item()\n",
        "        if i % 2000 == 1999:\n",
        "            print('[%d, %5d] loss: %.3f' %\n",
        "                  (epoch + 1, i + 1, running_loss / 2000))\n",
        "            running_loss = 0.0\n",
        "\n",
        "print('Finished Training')"
      ]
    },
    {
      "cell_type": "markdown",
      "metadata": {
        "id": "EZH0V71S8M0r"
      },
      "source": [
        "5. Test the network on the test data\n",
        "^^^^^^^^^^^^^^^^^^^^^^^^^^^^^^^^^^^^\n",
        "\n",
        "We have trained the network for 2 passes over the training dataset.\n",
        "But we need to check if the network has learnt anything at all.\n",
        "\n",
        "We will check this by predicting the class label that the neural network\n",
        "outputs, and checking it against the ground-truth. If the prediction is\n",
        "correct, we add the sample to the list of correct predictions.\n",
        "\n",
        "Okay, first step. Let us display an image from the test set to get familiar.\n",
        "\n"
      ]
    },
    {
      "cell_type": "code",
      "execution_count": 9,
      "metadata": {
        "id": "P2ykaQz48M0r",
        "outputId": "f92cc0c4-6483-4c3c-c5c3-3016e2951ba7",
        "colab": {
          "base_uri": "https://localhost:8080/",
          "height": 211
        }
      },
      "outputs": [
        {
          "output_type": "stream",
          "name": "stdout",
          "text": [
            "GroundTruth:    cat  ship  ship plane\n"
          ]
        },
        {
          "output_type": "display_data",
          "data": {
            "text/plain": [
              "<Figure size 640x480 with 1 Axes>"
            ],
            "image/png": "[encoded data removed]"
          },
          "metadata": {}
        }
      ],
      "source": [
        "dataiter = iter(testloader)\n",
        "images, labels = next(dataiter)\n",
        "\n",
        "# print images\n",
        "imshow(torchvision.utils.make_grid(images))\n",
        "print('GroundTruth: ', ' '.join('%5s' % classes[labels[j]] for j in range(4)))"
      ]
    },
    {
      "cell_type": "markdown",
      "metadata": {
        "id": "Q7J0xjNo8M0s"
      },
      "source": [
        "Okay, now let us see what the neural network thinks these examples above are:\n",
        "\n"
      ]
    },
    {
      "cell_type": "code",
      "execution_count": 10,
      "metadata": {
        "id": "3QjrtBIV8M0s"
      },
      "outputs": [],
      "source": [
        "images = images.to('cuda')\n",
        "outputs = net(images)"
      ]
    },
    {
      "cell_type": "markdown",
      "metadata": {
        "id": "uqfCch7_8M0s"
      },
      "source": [
        "The outputs are energies for the 10 classes.\n",
        "Higher the energy for a class, the more the network\n",
        "thinks that the image is of the particular class.\n",
        "So, let's get the index of the highest energy:\n",
        "\n"
      ]
    },
    {
      "cell_type": "code",
      "execution_count": 11,
      "metadata": {
        "id": "JqtfsDyn8M0s",
        "outputId": "50a83af0-91aa-4c01-b5ab-927236719ccb",
        "colab": {
          "base_uri": "https://localhost:8080/"
        }
      },
      "outputs": [
        {
          "output_type": "stream",
          "name": "stdout",
          "text": [
            "Predicted:    cat plane  ship plane\n"
          ]
        }
      ],
      "source": [
        "_, predicted = torch.max(outputs, 1)\n",
        "\n",
        "print('Predicted: ', ' '.join('%5s' % classes[predicted[j]]\n",
        "                              for j in range(4)))"
      ]
    },
    {
      "cell_type": "markdown",
      "metadata": {
        "id": "mwoqpVe08M0s"
      },
      "source": [
        "The results seem pretty good.\n",
        "\n",
        "Let us look at how the network performs on the whole dataset.\n",
        "\n"
      ]
    },
    {
      "cell_type": "code",
      "execution_count": 12,
      "metadata": {
        "id": "zHyXO9MA8M0t",
        "outputId": "c0050fc7-af6a-42a6-bf35-30e753aec8d4",
        "colab": {
          "base_uri": "https://localhost:8080/"
        }
      },
      "outputs": [
        {
          "output_type": "stream",
          "name": "stdout",
          "text": [
            "Accuracy of the network on the 10000 test images: 69 %\n"
          ]
        }
      ],
      "source": [
        "device = torch.device(\"cuda\" if torch.cuda.is_available() else \"cpu\")\n",
        "net.to(device)  # Ensure the model is on the correct device\n",
        "\n",
        "correct = 0\n",
        "total = 0\n",
        "with torch.no_grad():\n",
        "    for data in testloader:\n",
        "        images, labels = data\n",
        "        images = images.to(device)\n",
        "        labels = labels.to(device)\n",
        "\n",
        "        outputs = net(images)\n",
        "        _, predicted = torch.max(outputs.data, 1)\n",
        "        total += labels.size(0)\n",
        "        correct += (predicted == labels).sum().item()\n",
        "\n",
        "print('Accuracy of the network on the 10000 test images: %d %%' % (\n",
        "    100 * correct / total))"
      ]
    },
    {
      "cell_type": "markdown",
      "metadata": {
        "id": "TKxyNBrt8M0t"
      },
      "source": [
        "That looks waaay better than chance, which is 10% accuracy (randomly picking\n",
        "a class out of 10 classes).\n",
        "Seems like the network learnt something.\n",
        "\n",
        "Hmmm, what are the classes that performed well, and the classes that did\n",
        "not perform well:\n",
        "\n"
      ]
    },
    {
      "cell_type": "code",
      "execution_count": 13,
      "metadata": {
        "id": "pHxQLu3U8M0t",
        "outputId": "b6125245-7590-41dc-8536-ca531fd3c361",
        "colab": {
          "base_uri": "https://localhost:8080/"
        }
      },
      "outputs": [
        {
          "output_type": "stream",
          "name": "stdout",
          "text": [
            "Accuracy of plane : 76 %\n",
            "Accuracy of   car : 84 %\n",
            "Accuracy of  bird : 55 %\n",
            "Accuracy of   cat : 48 %\n",
            "Accuracy of  deer : 70 %\n",
            "Accuracy of   dog : 58 %\n",
            "Accuracy of  frog : 78 %\n",
            "Accuracy of horse : 68 %\n",
            "Accuracy of  ship : 72 %\n",
            "Accuracy of truck : 79 %\n"
          ]
        }
      ],
      "source": [
        "device = torch.device(\"cuda\" if torch.cuda.is_available() else \"cpu\")\n",
        "net.to(device)\n",
        "\n",
        "class_correct = list(0. for i in range(10))\n",
        "class_total = list(0. for i in range(10))\n",
        "\n",
        "with torch.no_grad():\n",
        "    for data in testloader:\n",
        "        images, labels = data\n",
        "        images = images.to(device)\n",
        "        labels = labels.to(device)\n",
        "\n",
        "        outputs = net(images)\n",
        "        _, predicted = torch.max(outputs, 1)\n",
        "        c = (predicted == labels).squeeze()\n",
        "\n",
        "        for i in range(len(labels)):  # safer than fixed range(4)\n",
        "            label = labels[i].item()\n",
        "            class_correct[label] += c[i].item()\n",
        "            class_total[label] += 1\n",
        "\n",
        "for i in range(10):\n",
        "    if class_total[i] > 0:\n",
        "        print('Accuracy of %5s : %2d %%' % (\n",
        "            classes[i], 100 * class_correct[i] / class_total[i]))\n",
        "    else:\n",
        "        print('Accuracy of %5s : N/A (no samples)' % classes[i])"
      ]
    },
    {
      "cell_type": "markdown",
      "metadata": {
        "id": "pxwm2mf78M0t"
      },
      "source": [
        "Okay, so what next?\n",
        "\n",
        "How do we run these neural networks on the GPU?\n",
        "\n",
        "Training on GPU\n",
        "----------------\n",
        "Just like how you transfer a Tensor on to the GPU, you transfer the neural\n",
        "net onto the GPU.\n",
        "\n",
        "Let's first define our device as the first visible cuda device if we have\n",
        "CUDA available:\n",
        "\n"
      ]
    },
    {
      "cell_type": "code",
      "execution_count": 14,
      "metadata": {
        "id": "Y0-Js6u58M0t",
        "outputId": "802c12ad-3c21-4402-ee4f-f2e9660ce444",
        "colab": {
          "base_uri": "https://localhost:8080/"
        }
      },
      "outputs": [
        {
          "output_type": "stream",
          "name": "stdout",
          "text": [
            "cuda:0\n"
          ]
        }
      ],
      "source": [
        "device = torch.device(\"cuda:0\" if torch.cuda.is_available() else \"cpu\")\n",
        "\n",
        "# Assume that we are on a CUDA machine, then this should print a CUDA device:\n",
        "\n",
        "print(device)"
      ]
    },
    {
      "cell_type": "markdown",
      "metadata": {
        "id": "Dfgikj4g8M0t"
      },
      "source": [
        "The rest of this section assumes that `device` is a CUDA device.\n",
        "\n",
        "Then these methods will recursively go over all modules and convert their\n",
        "parameters and buffers to CUDA tensors:\n",
        "\n",
        ".. code:: python\n",
        "\n",
        "    net.to(device)\n",
        "\n",
        "\n",
        "Remember that you will have to send the inputs and targets at every step\n",
        "to the GPU too:\n",
        "\n",
        ".. code:: python\n",
        "\n",
        "        inputs, labels = inputs.to(device), labels.to(device)\n",
        "\n",
        "Why dont I notice MASSIVE speedup compared to CPU? Because your network\n",
        "is realllly small.\n",
        "\n",
        "**Exercise:** Try increasing the width of your network (argument 2 of\n",
        "the first ``nn.Conv2d``, and argument 1 of the second ``nn.Conv2d`` –\n",
        "they need to be the same number), see what kind of speedup you get.\n",
        "\n",
        "**Goals achieved**:\n",
        "\n",
        "- Understanding PyTorch's Tensor library and neural networks at a high level.\n",
        "- Train a small neural network to classify images\n",
        "\n",
        "Training on multiple GPUs\n",
        "-------------------------\n",
        "If you want to see even more MASSIVE speedup using all of your GPUs,\n",
        "please check out :doc:`data_parallel_tutorial`.\n",
        "\n",
        "Where do I go next?\n",
        "-------------------\n",
        "\n",
        "-  :doc:`Train neural nets to play video games </intermediate/reinforcement_q_learning>`\n",
        "-  `Train a state-of-the-art ResNet network on imagenet`_\n",
        "-  `Train a face generator using Generative Adversarial Networks`_\n",
        "-  `Train a word-level language model using Recurrent LSTM networks`_\n",
        "-  `More examples`_\n",
        "-  `More tutorials`_\n",
        "-  `Discuss PyTorch on the Forums`_\n",
        "-  `Chat with other users on Slack`_\n",
        "\n",
        "\n"
      ]
    }
  ],
  "metadata": {
    "kernelspec": {
      "display_name": "Python 3",
      "name": "python3"
    },
    "language_info": {
      "codemirror_mode": {
        "name": "ipython",
        "version": 3
      },
      "file_extension": ".py",
      "mimetype": "text/x-python",
      "name": "python",
      "nbconvert_exporter": "python",
      "pygments_lexer": "ipython3",
      "version": "3.6.6"
    },
    "colab": {
      "provenance": [],
      "gpuType": "T4",
      "include_colab_link": true
    },
    "accelerator": "GPU"
  },
  "nbformat": 4,
  "nbformat_minor": 0
}